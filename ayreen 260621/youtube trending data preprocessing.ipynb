{
 "cells": [
  {
   "cell_type": "code",
   "execution_count": 1,
   "metadata": {},
   "outputs": [],
   "source": [
    "import findspark\n",
    "findspark.init('D:\\Program Files\\Spark\\spark-3.1.2-bin-hadoop2.7')"
   ]
  },
  {
   "cell_type": "code",
   "execution_count": 2,
   "metadata": {},
   "outputs": [],
   "source": [
    "import pyspark # only run after findspark.init()\n",
    "from pyspark.sql import SparkSession\n",
    "spark = SparkSession.builder.getOrCreate()"
   ]
  },
  {
   "cell_type": "code",
   "execution_count": 3,
   "metadata": {},
   "outputs": [
    {
     "output_type": "stream",
     "name": "stdout",
     "text": [
      "+-----------+--------------------+-------------------+--------------------+--------------------+----------+-------------+--------------------+----------+-------+--------+-------------+--------------------+-----------------+----------------+--------------------+\n|   video_id|               title|        publishedAt|           channelId|        channelTitle|categoryId|trending_date|                tags|view_count|  likes|dislikes|comment_count|      thumbnail_link|comments_disabled|ratings_disabled|         description|\n+-----------+--------------------+-------------------+--------------------+--------------------+----------+-------------+--------------------+----------+-------+--------+-------------+--------------------+-----------------+----------------+--------------------+\n|V1NK1lpEGSk|Season Two - Ep 1...|2021-06-13 10:07:43|UCQr98dS-5M_1xILT...|           superwog1|        23|     21.16.06|              [none]|   1350453|  96333|     597|         5885|https://i.ytimg.c...|            false|           false|All 6 episodes av...|\n|NZlClr_ivb4|Make THIS Shot, W...|2021-06-12 22:00:01|UCX6OQ3DkcsbYNE6H...|             MrBeast|        24|     21.16.06|              [none]|  26418678|1452486|   18871|        66367|https://i.ytimg.c...|            false|           false|If they miss the ...|\n|Tl1ycnEFk3I|World's Hottest H...|2021-06-15 00:00:04|UCRijo3ddMTht_IHy...|        Dude Perfect|        17|     21.16.06|dude perfect|dude...|   7306787| 318322|    4703|        20098|https://i.ytimg.c...|            false|           false|Hotttttttt sauce,...|\n|aQIS-FYPqCY|Found a fake Appl...|2021-06-10 09:45:23|UCFOjsHNR62Bd8z63...|           Kabonster|        28|     21.16.06|              [none]|   5033777| 388375|    4643|         1770|https://i.ytimg.c...|            false|           false|                null|\n|Pi-MRZBP91I|Sequel to The Leg...|2021-06-15 18:41:50|UCGIY_O-8vW4rfX98...|            Nintendo|        20|     21.16.06|The Legend of Zel...|   3653894| 243316|    2550|        27323|https://i.ytimg.c...|            false|           false|Return to Hyrule ...|\n|dFCbJmgeHmA|The Day the Dinos...|2021-06-15 16:09:03|UCsXVk37bltHxD1rD...|Kurzgesagt – In a...|        27|     21.16.06|              [none]|   2487535| 284723|    1233|        20898|https://i.ytimg.c...|            false|           false|DISCOVER ANCIENT ...|\n|whzBrjz706A|Things that just ...|2021-06-09 12:14:58|UCjF2pUd6qxmKQIox...|             CarBuzz|         2|     21.16.06|Chevy|Corvette|St...|   3416314| 187983|    5179|         2657|https://i.ytimg.c...|            false|           false|Things that just ...|\n|IGQ9Ggmnhb8|This is the HOTTE...|2021-06-10 17:02:11|UC5Z7Fc_QmKPzHv1Z...|       Tyler Csatari|        24|     21.16.06|              [none]|   5228948| 268217|    5825|         2516|https://i.ytimg.c...|            false|           false|#shortsI decided ...|\n|WomAGoEh-Ss|Battlefield 2042 ...|2021-06-13 19:21:44|UCvNBXWGykQrWb7kP...|         Battlefield|        20|     21.16.06|Battlefield|Battl...|   6729350| 480915|    9562|        36536|https://i.ytimg.c...|            false|           false|Check out the fir...|\n|1Gxrwh4zGPg|Mixing Every Hand...|2021-06-14 19:42:39|UCbAwSkqJ1W_Eg7wr...|      Safiya Nygaard|        22|     21.16.06|mixing every hand...|   2697048| 189510|    1971|        10703|https://i.ytimg.c...|            false|           false|Hello friends! Ba...|\n|9lxa46L1pDY|THE MOST HATED MA...|2021-06-11 03:00:03|UC_iZphaeWFErvQ3t...|    The Blondie Boys|        22|     21.16.06|              [none]|   6661407| 438284|   13728|         5001|https://i.ytimg.c...|            false|           false|             #shorts|\n|Y9_C9ujOgQM|YouTube VS. TikTo...|2021-06-13 02:21:53|UCvxfEIG3PHpgM0TM...|         FaZe Jarvis|        22|     21.16.06|              [none]|   7648917| 204520|    3787|        13899|https://i.ytimg.c...|            false|           false|Be sure to grab t...|\n|q7SLOZWvz4U|        see you soon|2021-06-13 14:05:04|UCrqsNpKuDQZreGax...|                Deji|        22|     21.16.06|              [none]|   3271739| 401365|   11840|        39987|https://i.ytimg.c...|            false|           false|           thank you|\n|hWGWqDZ0lP4|Thoughts After Gi...|2021-06-13 17:08:01|UCh15cw-HyTLMFEnQ...|           AnEsonGib|        24|     21.16.06|Thoughts After Gi...|   1762039| 199421|    1171|        11756|https://i.ytimg.c...|            false|           false|Thoughts After Gi...|\n|IYUJLO8HTog|Reacting to the F...|2021-06-13 19:29:18|UCFB-QxUdWLN3jxmf...|            FaZe Kay|        24|     21.16.06|kay|fazekay|faze ...|   4476397| 243009|    2423|        19637|https://i.ytimg.c...|            false|           false|Jarvis just dropp...|\n|krQ0ITsn7zg|XBOX E3 2021: 10 ...|2021-06-14 00:53:48|UCNvzD7Z-g64bPXxG...|            gameranx|        20|     21.16.06|Xbox e3 2021|new ...|   1153973|  34644|    1246|         3531|https://i.ytimg.c...|            false|           false|Xbox and Bethesda...|\n|SDrGeb6TfOU|HIGHLIGHTS ARGENT...|2021-06-15 01:47:26|UCcDhPsZnQKMn_4Df...|        Copa América|        17|     21.16.06|Copaamerica|copa ...|   3720577|  53012|    2268|         4741|https://i.ytimg.c...|            false|           false|Fecha: 14 de juni...|\n|n-O7OuliQRY|Halo Infinite | M...|2021-06-14 17:00:14|UC7NCg0venpKJg3ku...|                HALO|        20|     21.16.06|Halo|Xbox|343 Ind...|   1749192| 102880|    1820|        15008|https://i.ytimg.c...|            false|           false|Tune in as the te...|\n|MvOHu3LFgBI|The Worst Day Of ...|2021-06-13 21:15:00|UC2mP7il3YV7TxM_3...|        jschlattLIVE|        24|     21.16.06|jschlatt|jschlatt...|   1844718| 225480|    1607|         9583|https://i.ytimg.c...|            false|           false|Schlatt goes to t...|\n|4i86Ckj8xKk|Halo Infinite | M...|2021-06-13 19:41:58|UC7NCg0venpKJg3ku...|                HALO|        20|     21.16.06|Halo|Xbox|343 Ind...|   1161568|  65691|    1634|         9084|https://i.ytimg.c...|            false|           false|Halo Infinite's f...|\n+-----------+--------------------+-------------------+--------------------+--------------------+----------+-------------+--------------------+----------+-------+--------+-------------+--------------------+-----------------+----------------+--------------------+\nonly showing top 20 rows\n\n"
     ]
    }
   ],
   "source": [
    "# dont forget to run vpn before run this code.\n",
    "\n",
    "#df=spark.read.csv('hdfs://seneca1.lehre.hwr-berlin.de:8020/user/erik_eberhardt/yt_sample/*.csv').collect()\n",
    "data = spark.read.format(\"csv\").option(\"header\", True).option(\"multiLine\", True).option(\"inferSchema\", True).load(\"hdfs://seneca1.lehre.hwr-berlin.de:8020/user/erik_eberhardt/yt_sample/*.csv\")\n",
    "data.show()"
   ]
  },
  {
   "cell_type": "code",
   "execution_count": 4,
   "metadata": {},
   "outputs": [
    {
     "output_type": "stream",
     "name": "stdout",
     "text": [
      "+----------+----------+\n|categoryId|sum(Likes)|\n+----------+----------+\n|        24| 208714654|\n|        20| 144779419|\n|        10| 133657338|\n|        23| 107311547|\n|        22|  91646005|\n|        28|  25161227|\n|        27|  20793198|\n|        17|  13388555|\n|         2|   6679282|\n|        26|   3766880|\n|         1|   1519279|\n|        25|    816618|\n|        19|    565515|\n+----------+----------+\n\n"
     ]
    }
   ],
   "source": [
    "sumlikes=data.groupBy(\"categoryId\").sum(\"Likes\").orderBy(\"sum(Likes)\", ascending=False).show() "
   ]
  },
  {
   "cell_type": "code",
   "execution_count": 5,
   "metadata": {},
   "outputs": [
    {
     "output_type": "stream",
     "name": "stdout",
     "text": [
      "+--------------------+-----+\n|           channelId|count|\n+--------------------+-----+\n|UCUyfkq9e9ZfPzxOW...|   42|\n|UClG8odDC8TS6Zpqk...|   42|\n|UCF3K1Jf8hjFW8qli...|   42|\n|UC7NCg0venpKJg3ku...|   28|\n|UC2C6_mSbiLp3CplZ...|   28|\n|UCke6I9N4KfC968-y...|   28|\n|UC5Z7Fc_QmKPzHv1Z...|   28|\n|UCw7FkXsC00lH2v2y...|   28|\n|UCGIelM2Dj3zza3xy...|   28|\n|UCvxfEIG3PHpgM0TM...|   28|\n|UCvNBXWGykQrWb7kP...|   28|\n|UCFB-QxUdWLN3jxmf...|   28|\n|UC81hVmI5eEBIt3s3...|   28|\n|UCT2X19JJaJGUN7mr...|   28|\n|UCO4AcsPKEkIqDmbe...|   28|\n|UCrqsNpKuDQZreGax...|   28|\n|UC0jPwNs4B7yJySNe...|   28|\n|UCymK_3BWUcoYVVf5...|   28|\n|UCBVrn_SGKAOv3yKP...|   14|\n|UCNdpD9V0PIrH1glU...|   14|\n+--------------------+-----+\nonly showing top 20 rows\n\n"
     ]
    }
   ],
   "source": [
    "countCHID=data.groupBy(\"channelId\").count().orderBy(\"count\", ascending=False).show() "
   ]
  },
  {
   "cell_type": "code",
   "execution_count": 17,
   "metadata": {},
   "outputs": [],
   "source": [
    "import pandas as pd\n",
    "from pyspark.sql.types import ArrayType, StructField, StructType, StringType, IntegerType, DecimalType, TimestampType\n",
    "from decimal import Decimal\n",
    "from pyspark import SparkContext"
   ]
  },
  {
   "cell_type": "code",
   "execution_count": 8,
   "metadata": {},
   "outputs": [
    {
     "output_type": "stream",
     "name": "stdout",
     "text": [
      "+--------------------+--------------------+-------------------+--------------------+--------------------+----------+-------------+--------------------+----------+-------+--------+-------------+--------------------+-----------------+----------------+--------------------+\n|            video_id|               title|        publishedAt|           channelId|        channelTitle|categoryId|trending_date|                tags|view_count|  likes|dislikes|comment_count|      thumbnail_link|comments_disabled|ratings_disabled|         Description|\n+--------------------+--------------------+-------------------+--------------------+--------------------+----------+-------------+--------------------+----------+-------+--------+-------------+--------------------+-----------------+----------------+--------------------+\n|         V1NK1lpEGSk|Season Two - Ep 1...|2021-06-13 10:07:43|UCQr98dS-5M_1xILT...|           superwog1|        23|         null|              [none]|   1350453|  96333|     597|         5885|https://i.ytimg.c...|            False|           False|All 6 episodes av...|\n|         NZlClr_ivb4|Make THIS Shot, W...|2021-06-12 22:00:01|UCX6OQ3DkcsbYNE6H...|             MrBeast|        24|         null|              [none]|  26418678|1452486|   18871|        66367|https://i.ytimg.c...|            False|           False|If they miss the ...|\n|         Tl1ycnEFk3I|World's Hottest H...|2021-06-15 00:00:04|UCRijo3ddMTht_IHy...|        Dude Perfect|        17|         null|dude perfect|dude...|   7306787| 318322|    4703|        20098|https://i.ytimg.c...|            False|           False|Hotttttttt sauce,...|\n|         aQIS-FYPqCY|Found a fake Appl...|2021-06-10 09:45:23|UCFOjsHNR62Bd8z63...|           Kabonster|        28|         null|              [none]|   5033777| 388375|    4643|         1770|https://i.ytimg.c...|            False|           False|                null|\n|         Pi-MRZBP91I|Sequel to The Leg...|2021-06-15 18:41:50|UCGIY_O-8vW4rfX98...|            Nintendo|        20|         null|The Legend of Zel...|   3653894| 243316|    2550|        27323|https://i.ytimg.c...|            False|           False|Return to Hyrule ...|\n|Visit Nintendo.co...|                null|               null|                null|                null|      null|         null|                null|      null|   null|    null|         null|                null|             null|            null|                null|\n|Like Nintendo on ...|                null|               null|                null|                null|      null|         null|                null|      null|   null|    null|         null|                null|             null|            null|                null|\n|Follow us on Twit...|                null|               null|                null|                null|      null|         null|                null|      null|   null|    null|         null|                null|             null|            null|                null|\n|Follow us on Inst...|                null|               null|                null|                null|      null|         null|                null|      null|   null|    null|         null|                null|             null|            null|                null|\n|Follow us on Pint...|                null|               null|                null|                null|      null|         null|                null|      null|   null|    null|         null|                null|             null|            null|                null|\n|         dFCbJmgeHmA|The Day the Dinos...|2021-06-15 16:09:03|UCsXVk37bltHxD1rD...|Kurzgesagt – In a...|        27|         null|              [none]|   2487535| 284723|    1233|        20898|https://i.ytimg.c...|            False|           False|DISCOVER ANCIENT ...|\n|         whzBrjz706A|Things that just ...|2021-06-09 12:14:58|UCjF2pUd6qxmKQIox...|             CarBuzz|         2|         null|Chevy|Corvette|St...|   3416314| 187983|    5179|         2657|https://i.ytimg.c...|            False|           False|Things that just ...|\n|         IGQ9Ggmnhb8|This is the HOTTE...|2021-06-10 17:02:11|UC5Z7Fc_QmKPzHv1Z...|       Tyler Csatari|        24|         null|              [none]|   5228948| 268217|    5825|         2516|https://i.ytimg.c...|            False|           False|#shortsI decided ...|\n|         WomAGoEh-Ss|Battlefield 2042 ...|2021-06-13 19:21:44|UCvNBXWGykQrWb7kP...|         Battlefield|        20|         null|Battlefield|Battl...|   6729350| 480915|    9562|        36536|https://i.ytimg.c...|            False|           False|Check out the fir...|\n|         1Gxrwh4zGPg|Mixing Every Hand...|2021-06-14 19:42:39|UCbAwSkqJ1W_Eg7wr...|      Safiya Nygaard|        22|         null|mixing every hand...|   2697048| 189510|    1971|        10703|https://i.ytimg.c...|            False|           False|Hello friends! Ba...|\n|         9lxa46L1pDY|THE MOST HATED MA...|2021-06-11 03:00:03|UC_iZphaeWFErvQ3t...|    The Blondie Boys|        22|         null|              [none]|   6661407| 438284|   13728|         5001|https://i.ytimg.c...|            False|           False|             #shorts|\n|         Y9_C9ujOgQM|YouTube VS. TikTo...|2021-06-13 02:21:53|UCvxfEIG3PHpgM0TM...|         FaZe Jarvis|        22|         null|              [none]|   7648917| 204520|    3787|        13899|https://i.ytimg.c...|            False|           False|Be sure to grab t...|\n|         q7SLOZWvz4U|        see you soon|2021-06-13 14:05:04|UCrqsNpKuDQZreGax...|                Deji|        22|         null|              [none]|   3271739| 401365|   11840|        39987|https://i.ytimg.c...|            False|           False|           thank you|\n|         hWGWqDZ0lP4|Thoughts After Gi...|2021-06-13 17:08:01|UCh15cw-HyTLMFEnQ...|           AnEsonGib|        24|         null|Thoughts After Gi...|   1762039| 199421|    1171|        11756|https://i.ytimg.c...|            False|           False|Thoughts After Gi...|\n|Twitter: https://...|                null|               null|                null|                null|      null|         null|                null|      null|   null|    null|         null|                null|             null|            null|                null|\n+--------------------+--------------------+-------------------+--------------------+--------------------+----------+-------------+--------------------+----------+-------+--------+-------------+--------------------+-----------------+----------------+--------------------+\nonly showing top 20 rows\n\n"
     ]
    }
   ],
   "source": [
    "##convert list into dataframe\n",
    "# Create a schema for the dataframe\n",
    "schema = StructType ([\n",
    "    StructField('video_id', StringType(), True),\n",
    "    StructField('title', StringType(), True),\n",
    "    StructField('publishedAt', TimestampType(), True),\n",
    "    StructField('channelId', StringType(), True),\n",
    "    StructField('channelTitle', StringType(), True),\n",
    "    StructField('categoryId', StringType(), True),    \n",
    "    StructField('trending_date', TimestampType(), True),    \n",
    "    StructField('tags', StringType(), True),    \n",
    "    StructField('view_count', DecimalType(), True),    \n",
    "    StructField('likes', DecimalType(), True),    \n",
    "    StructField('dislikes', DecimalType(), True),   \n",
    "    StructField('comment_count', DecimalType(), True),   \n",
    "    StructField('thumbnail_link', StringType(), True),\n",
    "    StructField('comments_disabled', StringType(), True),\n",
    "    StructField('ratings_disabled', StringType(), True),\n",
    "    StructField('Description', StringType(), True)\n",
    "])\n",
    "\n",
    "spark = SparkSession.builder.appName(\"DFpyspark\").getOrCreate()\n",
    "sc=spark.sparkContext\n",
    "\n",
    "df = spark.read.csv(\"hdfs://seneca1.lehre.hwr-berlin.de:8020/user/erik_eberhardt/yt_sample/*.csv\", header=True,sep=\",\",schema=schema)\n",
    "df.show()"
   ]
  },
  {
   "cell_type": "code",
   "execution_count": 9,
   "metadata": {},
   "outputs": [],
   "source": [
    "import pandas as pd\n",
    "import numpy as np\n",
    "import seaborn as sns\n",
    "import os\n",
    "import matplotlib\n",
    "import matplotlib.pyplot as plt\n",
    "from matplotlib import cm \n",
    "from pyspark import SparkConf\n",
    "from subprocess import check_output\n",
    "import re, string\n",
    "from operator import add\n",
    "\n",
    "\n",
    "matplotlib.rcParams['figure.figsize'] = (10,10)"
   ]
  },
  {
   "cell_type": "code",
   "execution_count": 20,
   "metadata": {},
   "outputs": [
    {
     "output_type": "execute_result",
     "data": {
      "text/plain": [
       "<SparkContext master=local[*] appName=pyspark-shell>"
      ],
      "text/html": "\n        <div>\n            <p><b>SparkContext</b></p>\n\n            <p><a href=\"http://10.90.0.17:4042\">Spark UI</a></p>\n\n            <dl>\n              <dt>Version</dt>\n                <dd><code>v3.1.2</code></dd>\n              <dt>Master</dt>\n                <dd><code>local[*]</code></dd>\n              <dt>AppName</dt>\n                <dd><code>pyspark-shell</code></dd>\n            </dl>\n        </div>\n        "
     },
     "metadata": {},
     "execution_count": 20
    }
   ],
   "source": [
    "sc"
   ]
  },
  {
   "cell_type": "code",
   "execution_count": 21,
   "metadata": {},
   "outputs": [
    {
     "output_type": "execute_result",
     "data": {
      "text/plain": [
       "'local[*]'"
      ]
     },
     "metadata": {},
     "execution_count": 21
    }
   ],
   "source": [
    "sc.master"
   ]
  },
  {
   "cell_type": "code",
   "execution_count": 32,
   "metadata": {},
   "outputs": [],
   "source": [
    "import csv \n",
    "from io import StringIO \n",
    "from collections import namedtuple\n",
    "from pyspark.sql.functions import *\n",
    "import matplotlib\n",
    "import matplotlib.pyplot as plt\n",
    "from matplotlib import cm\n",
    "from datetime import datetime\n",
    "import glob\n",
    "import seaborn as sns"
   ]
  },
  {
   "cell_type": "code",
   "execution_count": 10,
   "metadata": {},
   "outputs": [
    {
     "output_type": "execute_result",
     "data": {
      "text/plain": [
       "2800"
      ]
     },
     "metadata": {},
     "execution_count": 10
    }
   ],
   "source": [
    "data.count()"
   ]
  },
  {
   "cell_type": "code",
   "execution_count": 11,
   "metadata": {},
   "outputs": [
    {
     "output_type": "execute_result",
     "data": {
      "text/plain": [
       "[Row(video_id='V1NK1lpEGSk', title='Season Two - Ep 1 The P Plates', publishedAt=datetime.datetime(2021, 6, 13, 10, 7, 43), channelId='UCQr98dS-5M_1xILTm4HAk-A', channelTitle='superwog1', categoryId=23, trending_date='21.16.06', tags='[none]', view_count=1350453, likes=96333, dislikes=597, comment_count=5885, thumbnail_link='https://i.ytimg.com/vi/V1NK1lpEGSk/default.jpg', comments_disabled=False, ratings_disabled=False, description='All 6 episodes available now free on ABC iview! Stream now: https://abc.net.au/superwog')]"
      ]
     },
     "metadata": {},
     "execution_count": 11
    }
   ],
   "source": [
    "data.take(1)"
   ]
  },
  {
   "cell_type": "code",
   "execution_count": 33,
   "metadata": {},
   "outputs": [],
   "source": [
    "import pyspark"
   ]
  },
  {
   "cell_type": "code",
   "execution_count": 34,
   "metadata": {},
   "outputs": [
    {
     "output_type": "execute_result",
     "data": {
      "text/plain": [
       "['Accumulator',\n",
       " 'AccumulatorParam',\n",
       " 'BarrierTaskContext',\n",
       " 'BarrierTaskInfo',\n",
       " 'BasicProfiler',\n",
       " 'Broadcast',\n",
       " 'HiveContext',\n",
       " 'InheritableThread',\n",
       " 'MarshalSerializer',\n",
       " 'PickleSerializer',\n",
       " 'Profiler',\n",
       " 'RDD',\n",
       " 'RDDBarrier',\n",
       " 'Row',\n",
       " 'SQLContext',\n",
       " 'SparkConf',\n",
       " 'SparkContext',\n",
       " 'SparkFiles',\n",
       " 'SparkJobInfo',\n",
       " 'SparkStageInfo',\n",
       " 'StatusTracker',\n",
       " 'StorageLevel',\n",
       " 'TaskContext',\n",
       " '_NoValue',\n",
       " '__all__',\n",
       " '__builtins__',\n",
       " '__cached__',\n",
       " '__doc__',\n",
       " '__file__',\n",
       " '__loader__',\n",
       " '__name__',\n",
       " '__package__',\n",
       " '__path__',\n",
       " '__spec__',\n",
       " '__version__',\n",
       " '_globals',\n",
       " 'accumulators',\n",
       " 'broadcast',\n",
       " 'cloudpickle',\n",
       " 'conf',\n",
       " 'context',\n",
       " 'copy_func',\n",
       " 'files',\n",
       " 'find_spark_home',\n",
       " 'java_gateway',\n",
       " 'join',\n",
       " 'keyword_only',\n",
       " 'profiler',\n",
       " 'rdd',\n",
       " 'rddsampler',\n",
       " 'resource',\n",
       " 'resultiterable',\n",
       " 'serializers',\n",
       " 'shuffle',\n",
       " 'since',\n",
       " 'sql',\n",
       " 'statcounter',\n",
       " 'status',\n",
       " 'storagelevel',\n",
       " 'taskcontext',\n",
       " 'traceback_utils',\n",
       " 'types',\n",
       " 'util',\n",
       " 'version',\n",
       " 'wraps']"
      ]
     },
     "metadata": {},
     "execution_count": 34
    }
   ],
   "source": [
    "dir(pyspark)"
   ]
  },
  {
   "cell_type": "code",
   "execution_count": 35,
   "metadata": {},
   "outputs": [],
   "source": [
    "from pyspark.sql import SQLContext "
   ]
  },
  {
   "cell_type": "code",
   "execution_count": 36,
   "metadata": {},
   "outputs": [],
   "source": [
    "sqlContext = SQLContext(sc)\n"
   ]
  },
  {
   "cell_type": "code",
   "execution_count": 37,
   "metadata": {},
   "outputs": [],
   "source": [
    "data.registerTempTable('ytTable')"
   ]
  },
  {
   "cell_type": "code",
   "execution_count": 38,
   "metadata": {},
   "outputs": [
    {
     "output_type": "stream",
     "name": "stdout",
     "text": [
      "+-----------+--------------------+-------------------+--------------------+--------------------+----------+-------------+--------------------+----------+-------+--------+-------------+--------------------+-----------------+----------------+--------------------+\n|   video_id|               title|        publishedAt|           channelId|        channelTitle|categoryId|trending_date|                tags|view_count|  likes|dislikes|comment_count|      thumbnail_link|comments_disabled|ratings_disabled|         description|\n+-----------+--------------------+-------------------+--------------------+--------------------+----------+-------------+--------------------+----------+-------+--------+-------------+--------------------+-----------------+----------------+--------------------+\n|V1NK1lpEGSk|Season Two - Ep 1...|2021-06-13 10:07:43|UCQr98dS-5M_1xILT...|           superwog1|        23|     21.16.06|              [none]|   1350453|  96333|     597|         5885|https://i.ytimg.c...|            false|           false|All 6 episodes av...|\n|NZlClr_ivb4|Make THIS Shot, W...|2021-06-12 22:00:01|UCX6OQ3DkcsbYNE6H...|             MrBeast|        24|     21.16.06|              [none]|  26418678|1452486|   18871|        66367|https://i.ytimg.c...|            false|           false|If they miss the ...|\n|Tl1ycnEFk3I|World's Hottest H...|2021-06-15 00:00:04|UCRijo3ddMTht_IHy...|        Dude Perfect|        17|     21.16.06|dude perfect|dude...|   7306787| 318322|    4703|        20098|https://i.ytimg.c...|            false|           false|Hotttttttt sauce,...|\n|aQIS-FYPqCY|Found a fake Appl...|2021-06-10 09:45:23|UCFOjsHNR62Bd8z63...|           Kabonster|        28|     21.16.06|              [none]|   5033777| 388375|    4643|         1770|https://i.ytimg.c...|            false|           false|                null|\n|Pi-MRZBP91I|Sequel to The Leg...|2021-06-15 18:41:50|UCGIY_O-8vW4rfX98...|            Nintendo|        20|     21.16.06|The Legend of Zel...|   3653894| 243316|    2550|        27323|https://i.ytimg.c...|            false|           false|Return to Hyrule ...|\n|dFCbJmgeHmA|The Day the Dinos...|2021-06-15 16:09:03|UCsXVk37bltHxD1rD...|Kurzgesagt – In a...|        27|     21.16.06|              [none]|   2487535| 284723|    1233|        20898|https://i.ytimg.c...|            false|           false|DISCOVER ANCIENT ...|\n|whzBrjz706A|Things that just ...|2021-06-09 12:14:58|UCjF2pUd6qxmKQIox...|             CarBuzz|         2|     21.16.06|Chevy|Corvette|St...|   3416314| 187983|    5179|         2657|https://i.ytimg.c...|            false|           false|Things that just ...|\n|IGQ9Ggmnhb8|This is the HOTTE...|2021-06-10 17:02:11|UC5Z7Fc_QmKPzHv1Z...|       Tyler Csatari|        24|     21.16.06|              [none]|   5228948| 268217|    5825|         2516|https://i.ytimg.c...|            false|           false|#shortsI decided ...|\n|WomAGoEh-Ss|Battlefield 2042 ...|2021-06-13 19:21:44|UCvNBXWGykQrWb7kP...|         Battlefield|        20|     21.16.06|Battlefield|Battl...|   6729350| 480915|    9562|        36536|https://i.ytimg.c...|            false|           false|Check out the fir...|\n|1Gxrwh4zGPg|Mixing Every Hand...|2021-06-14 19:42:39|UCbAwSkqJ1W_Eg7wr...|      Safiya Nygaard|        22|     21.16.06|mixing every hand...|   2697048| 189510|    1971|        10703|https://i.ytimg.c...|            false|           false|Hello friends! Ba...|\n|9lxa46L1pDY|THE MOST HATED MA...|2021-06-11 03:00:03|UC_iZphaeWFErvQ3t...|    The Blondie Boys|        22|     21.16.06|              [none]|   6661407| 438284|   13728|         5001|https://i.ytimg.c...|            false|           false|             #shorts|\n|Y9_C9ujOgQM|YouTube VS. TikTo...|2021-06-13 02:21:53|UCvxfEIG3PHpgM0TM...|         FaZe Jarvis|        22|     21.16.06|              [none]|   7648917| 204520|    3787|        13899|https://i.ytimg.c...|            false|           false|Be sure to grab t...|\n|q7SLOZWvz4U|        see you soon|2021-06-13 14:05:04|UCrqsNpKuDQZreGax...|                Deji|        22|     21.16.06|              [none]|   3271739| 401365|   11840|        39987|https://i.ytimg.c...|            false|           false|           thank you|\n|hWGWqDZ0lP4|Thoughts After Gi...|2021-06-13 17:08:01|UCh15cw-HyTLMFEnQ...|           AnEsonGib|        24|     21.16.06|Thoughts After Gi...|   1762039| 199421|    1171|        11756|https://i.ytimg.c...|            false|           false|Thoughts After Gi...|\n|IYUJLO8HTog|Reacting to the F...|2021-06-13 19:29:18|UCFB-QxUdWLN3jxmf...|            FaZe Kay|        24|     21.16.06|kay|fazekay|faze ...|   4476397| 243009|    2423|        19637|https://i.ytimg.c...|            false|           false|Jarvis just dropp...|\n|krQ0ITsn7zg|XBOX E3 2021: 10 ...|2021-06-14 00:53:48|UCNvzD7Z-g64bPXxG...|            gameranx|        20|     21.16.06|Xbox e3 2021|new ...|   1153973|  34644|    1246|         3531|https://i.ytimg.c...|            false|           false|Xbox and Bethesda...|\n|SDrGeb6TfOU|HIGHLIGHTS ARGENT...|2021-06-15 01:47:26|UCcDhPsZnQKMn_4Df...|        Copa América|        17|     21.16.06|Copaamerica|copa ...|   3720577|  53012|    2268|         4741|https://i.ytimg.c...|            false|           false|Fecha: 14 de juni...|\n|n-O7OuliQRY|Halo Infinite | M...|2021-06-14 17:00:14|UC7NCg0venpKJg3ku...|                HALO|        20|     21.16.06|Halo|Xbox|343 Ind...|   1749192| 102880|    1820|        15008|https://i.ytimg.c...|            false|           false|Tune in as the te...|\n|MvOHu3LFgBI|The Worst Day Of ...|2021-06-13 21:15:00|UC2mP7il3YV7TxM_3...|        jschlattLIVE|        24|     21.16.06|jschlatt|jschlatt...|   1844718| 225480|    1607|         9583|https://i.ytimg.c...|            false|           false|Schlatt goes to t...|\n|4i86Ckj8xKk|Halo Infinite | M...|2021-06-13 19:41:58|UC7NCg0venpKJg3ku...|                HALO|        20|     21.16.06|Halo|Xbox|343 Ind...|   1161568|  65691|    1634|         9084|https://i.ytimg.c...|            false|           false|Halo Infinite's f...|\n+-----------+--------------------+-------------------+--------------------+--------------------+----------+-------------+--------------------+----------+-------+--------+-------------+--------------------+-----------------+----------------+--------------------+\nonly showing top 20 rows\n\n"
     ]
    }
   ],
   "source": [
    "#make queries\n",
    "sqlContext.sql('SELECT * FROM ytTable').show()"
   ]
  },
  {
   "cell_type": "code",
   "execution_count": 45,
   "metadata": {},
   "outputs": [],
   "source": [
    "import pandas as pd\n",
    "import numpy as np\n",
    "import os\n",
    "import requests\n",
    "from matplotlib import pyplot as plt\n",
    "from matplotlib import ticker\n",
    "import matplotlib.colors as mc\n",
    "import seaborn as sns\n",
    "from IPython.display import HTML\n",
    "import re\n",
    "from collections import Counter\n",
    "import wordcloud\n",
    "from pprint import pprint\n",
    "import random\n",
    "from nltk.tokenize import RegexpTokenizer\n",
    "from nltk.corpus import stopwords\n",
    "from nltk.util import ngrams\n",
    "from nltk import download as nltk_download\n",
    "from PIL import Image\n",
    "import emoji\n",
    "import tempfile\n",
    "import io\n",
    "from PIL import Image\n",
    "import time\n",
    "from scipy.spatial import distance\n",
    "from skimage import color as skcolor\n",
    "#from imageai.Detection import ObjectDetection"
   ]
  },
  {
   "cell_type": "code",
   "execution_count": 51,
   "metadata": {},
   "outputs": [
    {
     "output_type": "stream",
     "name": "stdout",
     "text": [
      "+---------------+\n|min(view_count)|\n+---------------+\n|          62051|\n+---------------+\n\n"
     ]
    }
   ],
   "source": [
    "sqlContext.sql('SELECT min(view_count) FROM ytTable').show()"
   ]
  },
  {
   "cell_type": "code",
   "execution_count": 72,
   "metadata": {},
   "outputs": [
    {
     "output_type": "stream",
     "name": "stdout",
     "text": [
      "+-----------+--------------------+-------------------+--------------------+--------------------+----------+-------------+--------------------+----------+-----+--------+-------------+--------------------+-----------------+----------------+--------------------+\n|   video_id|               title|        publishedAt|           channelId|        channelTitle|categoryId|trending_date|                tags|view_count|likes|dislikes|comment_count|      thumbnail_link|comments_disabled|ratings_disabled|         description|\n+-----------+--------------------+-------------------+--------------------+--------------------+----------+-------------+--------------------+----------+-----+--------+-------------+--------------------+-----------------+----------------+--------------------+\n|mXxSeVG9uQk|Real Deal gets a ...|2021-06-09 07:34:52|UCST3-8pPhHzJeRsX...|Castlemaine Rod Shop|         2|     21.16.06|REAL DEAL|HOLDEN|...|     62051| 4575|      53|          580|https://i.ytimg.c...|            false|           false|Castlemaine rod s...|\n|mXxSeVG9uQk|Real Deal gets a ...|2021-06-09 07:34:52|UCST3-8pPhHzJeRsX...|Castlemaine Rod Shop|         2|     21.16.06|REAL DEAL|HOLDEN|...|     62065| 4576|      53|          580|https://i.ytimg.c...|            false|           false|Castlemaine rod s...|\n|mXxSeVG9uQk|Real Deal gets a ...|2021-06-09 07:34:52|UCST3-8pPhHzJeRsX...|Castlemaine Rod Shop|         2|     21.16.06|REAL DEAL|HOLDEN|...|     62086| 4576|      53|          580|https://i.ytimg.c...|            false|           false|Castlemaine rod s...|\n|mXxSeVG9uQk|Real Deal gets a ...|2021-06-09 07:34:52|UCST3-8pPhHzJeRsX...|Castlemaine Rod Shop|         2|     21.16.06|REAL DEAL|HOLDEN|...|     62118| 4578|      53|          580|https://i.ytimg.c...|            false|           false|Castlemaine rod s...|\n|mXxSeVG9uQk|Real Deal gets a ...|2021-06-09 07:34:52|UCST3-8pPhHzJeRsX...|Castlemaine Rod Shop|         2|     21.16.06|REAL DEAL|HOLDEN|...|     62154| 4578|      53|          580|https://i.ytimg.c...|            false|           false|Castlemaine rod s...|\n|mXxSeVG9uQk|Real Deal gets a ...|2021-06-09 07:34:52|UCST3-8pPhHzJeRsX...|Castlemaine Rod Shop|         2|     21.16.06|REAL DEAL|HOLDEN|...|     62186| 4578|      53|          580|https://i.ytimg.c...|            false|           false|Castlemaine rod s...|\n|mXxSeVG9uQk|Real Deal gets a ...|2021-06-09 07:34:52|UCST3-8pPhHzJeRsX...|Castlemaine Rod Shop|         2|     21.16.06|REAL DEAL|HOLDEN|...|     62216| 4578|      53|          580|https://i.ytimg.c...|            false|           false|Castlemaine rod s...|\n|mXxSeVG9uQk|Real Deal gets a ...|2021-06-09 07:34:52|UCST3-8pPhHzJeRsX...|Castlemaine Rod Shop|         2|     21.16.06|REAL DEAL|HOLDEN|...|     62239| 4578|      53|          580|https://i.ytimg.c...|            false|           false|Castlemaine rod s...|\n|mXxSeVG9uQk|Real Deal gets a ...|2021-06-09 07:34:52|UCST3-8pPhHzJeRsX...|Castlemaine Rod Shop|         2|     21.16.06|REAL DEAL|HOLDEN|...|     62267| 4580|      53|          580|https://i.ytimg.c...|            false|           false|Castlemaine rod s...|\n|mXxSeVG9uQk|Real Deal gets a ...|2021-06-09 07:34:52|UCST3-8pPhHzJeRsX...|Castlemaine Rod Shop|         2|     21.16.06|REAL DEAL|HOLDEN|...|     62291| 4580|      53|          580|https://i.ytimg.c...|            false|           false|Castlemaine rod s...|\n|mXxSeVG9uQk|Real Deal gets a ...|2021-06-09 07:34:52|UCST3-8pPhHzJeRsX...|Castlemaine Rod Shop|         2|     21.16.06|REAL DEAL|HOLDEN|...|     62300| 4581|      53|          580|https://i.ytimg.c...|            false|           false|Castlemaine rod s...|\n|mXxSeVG9uQk|Real Deal gets a ...|2021-06-09 07:34:52|UCST3-8pPhHzJeRsX...|Castlemaine Rod Shop|         2|     21.16.06|REAL DEAL|HOLDEN|...|     62318| 4581|      53|          580|https://i.ytimg.c...|            false|           false|Castlemaine rod s...|\n|mXxSeVG9uQk|Real Deal gets a ...|2021-06-09 07:34:52|UCST3-8pPhHzJeRsX...|Castlemaine Rod Shop|         2|     21.16.06|REAL DEAL|HOLDEN|...|     62325| 4581|      53|          580|https://i.ytimg.c...|            false|           false|Castlemaine rod s...|\n|mXxSeVG9uQk|Real Deal gets a ...|2021-06-09 07:34:52|UCST3-8pPhHzJeRsX...|Castlemaine Rod Shop|         2|     21.16.06|REAL DEAL|HOLDEN|...|     62459| 4584|      53|          580|https://i.ytimg.c...|            false|           false|Castlemaine rod s...|\n|wwdk9MOgvsU|Lisi - Dreams (Of...|2021-06-12 04:00:11|UCz7KmQjNIOKt5Cul...|           Lisi 4300|        10|     21.16.06|              [none]|     80922| 5967|      72|          395|https://i.ytimg.c...|            false|           false|Castille Records ...|\n|wwdk9MOgvsU|Lisi - Dreams (Of...|2021-06-12 04:00:11|UCz7KmQjNIOKt5Cul...|           Lisi 4300|        10|     21.16.06|              [none]|     81288| 5997|      73|          396|https://i.ytimg.c...|            false|           false|Castille Records ...|\n|wwdk9MOgvsU|Lisi - Dreams (Of...|2021-06-12 04:00:11|UCz7KmQjNIOKt5Cul...|           Lisi 4300|        10|     21.16.06|              [none]|     81704| 6018|      73|          396|https://i.ytimg.c...|            false|           false|Castille Records ...|\n|wwdk9MOgvsU|Lisi - Dreams (Of...|2021-06-12 04:00:11|UCz7KmQjNIOKt5Cul...|           Lisi 4300|        10|     21.16.06|              [none]|     82359| 6046|      73|          398|https://i.ytimg.c...|            false|           false|Castille Records ...|\n|wwdk9MOgvsU|Lisi - Dreams (Of...|2021-06-12 04:00:11|UCz7KmQjNIOKt5Cul...|           Lisi 4300|        10|     21.16.06|              [none]|     82973| 6066|      73|          400|https://i.ytimg.c...|            false|           false|Castille Records ...|\n|wwdk9MOgvsU|Lisi - Dreams (Of...|2021-06-12 04:00:11|UCz7KmQjNIOKt5Cul...|           Lisi 4300|        10|     21.16.06|              [none]|     83418| 6081|      73|          401|https://i.ytimg.c...|            false|           false|Castille Records ...|\n+-----------+--------------------+-------------------+--------------------+--------------------+----------+-------------+--------------------+----------+-----+--------+-------------+--------------------+-----------------+----------------+--------------------+\nonly showing top 20 rows\n\n"
     ]
    }
   ],
   "source": [
    "data.sort('view_count').show()\n",
    "#df.sort_values(by='views', ascending=False).drop_duplicates(subset=['video_id']).head()"
   ]
  },
  {
   "cell_type": "code",
   "execution_count": 82,
   "metadata": {},
   "outputs": [
    {
     "output_type": "stream",
     "name": "stdout",
     "text": [
      "+-----------+--------------------+-------------------+--------------------+--------------------+----------+-------------+--------------------+----------+-----+--------+-------------+--------------------+-----------------+----------------+--------------------+\n|   video_id|               title|        publishedAt|           channelId|        channelTitle|categoryId|trending_date|                tags|view_count|likes|dislikes|comment_count|      thumbnail_link|comments_disabled|ratings_disabled|         description|\n+-----------+--------------------+-------------------+--------------------+--------------------+----------+-------------+--------------------+----------+-----+--------+-------------+--------------------+-----------------+----------------+--------------------+\n|mXxSeVG9uQk|Real Deal gets a ...|2021-06-09 07:34:52|UCST3-8pPhHzJeRsX...|Castlemaine Rod Shop|         2|     21.16.06|REAL DEAL|HOLDEN|...|     62459| 4584|      53|          580|https://i.ytimg.c...|            false|           false|Castlemaine rod s...|\n|mXxSeVG9uQk|Real Deal gets a ...|2021-06-09 07:34:52|UCST3-8pPhHzJeRsX...|Castlemaine Rod Shop|         2|     21.16.06|REAL DEAL|HOLDEN|...|     62318| 4581|      53|          580|https://i.ytimg.c...|            false|           false|Castlemaine rod s...|\n|mXxSeVG9uQk|Real Deal gets a ...|2021-06-09 07:34:52|UCST3-8pPhHzJeRsX...|Castlemaine Rod Shop|         2|     21.16.06|REAL DEAL|HOLDEN|...|     62325| 4581|      53|          580|https://i.ytimg.c...|            false|           false|Castlemaine rod s...|\n|mXxSeVG9uQk|Real Deal gets a ...|2021-06-09 07:34:52|UCST3-8pPhHzJeRsX...|Castlemaine Rod Shop|         2|     21.16.06|REAL DEAL|HOLDEN|...|     62239| 4578|      53|          580|https://i.ytimg.c...|            false|           false|Castlemaine rod s...|\n|mXxSeVG9uQk|Real Deal gets a ...|2021-06-09 07:34:52|UCST3-8pPhHzJeRsX...|Castlemaine Rod Shop|         2|     21.16.06|REAL DEAL|HOLDEN|...|     62267| 4580|      53|          580|https://i.ytimg.c...|            false|           false|Castlemaine rod s...|\n|mXxSeVG9uQk|Real Deal gets a ...|2021-06-09 07:34:52|UCST3-8pPhHzJeRsX...|Castlemaine Rod Shop|         2|     21.16.06|REAL DEAL|HOLDEN|...|     62291| 4580|      53|          580|https://i.ytimg.c...|            false|           false|Castlemaine rod s...|\n|mXxSeVG9uQk|Real Deal gets a ...|2021-06-09 07:34:52|UCST3-8pPhHzJeRsX...|Castlemaine Rod Shop|         2|     21.16.06|REAL DEAL|HOLDEN|...|     62300| 4581|      53|          580|https://i.ytimg.c...|            false|           false|Castlemaine rod s...|\n|mXxSeVG9uQk|Real Deal gets a ...|2021-06-09 07:34:52|UCST3-8pPhHzJeRsX...|Castlemaine Rod Shop|         2|     21.16.06|REAL DEAL|HOLDEN|...|     62086| 4576|      53|          580|https://i.ytimg.c...|            false|           false|Castlemaine rod s...|\n|mXxSeVG9uQk|Real Deal gets a ...|2021-06-09 07:34:52|UCST3-8pPhHzJeRsX...|Castlemaine Rod Shop|         2|     21.16.06|REAL DEAL|HOLDEN|...|     62118| 4578|      53|          580|https://i.ytimg.c...|            false|           false|Castlemaine rod s...|\n|mXxSeVG9uQk|Real Deal gets a ...|2021-06-09 07:34:52|UCST3-8pPhHzJeRsX...|Castlemaine Rod Shop|         2|     21.16.06|REAL DEAL|HOLDEN|...|     62154| 4578|      53|          580|https://i.ytimg.c...|            false|           false|Castlemaine rod s...|\n|mXxSeVG9uQk|Real Deal gets a ...|2021-06-09 07:34:52|UCST3-8pPhHzJeRsX...|Castlemaine Rod Shop|         2|     21.16.06|REAL DEAL|HOLDEN|...|     62186| 4578|      53|          580|https://i.ytimg.c...|            false|           false|Castlemaine rod s...|\n|mXxSeVG9uQk|Real Deal gets a ...|2021-06-09 07:34:52|UCST3-8pPhHzJeRsX...|Castlemaine Rod Shop|         2|     21.16.06|REAL DEAL|HOLDEN|...|     62216| 4578|      53|          580|https://i.ytimg.c...|            false|           false|Castlemaine rod s...|\n|mXxSeVG9uQk|Real Deal gets a ...|2021-06-09 07:34:52|UCST3-8pPhHzJeRsX...|Castlemaine Rod Shop|         2|     21.16.06|REAL DEAL|HOLDEN|...|     62051| 4575|      53|          580|https://i.ytimg.c...|            false|           false|Castlemaine rod s...|\n|mXxSeVG9uQk|Real Deal gets a ...|2021-06-09 07:34:52|UCST3-8pPhHzJeRsX...|Castlemaine Rod Shop|         2|     21.16.06|REAL DEAL|HOLDEN|...|     62065| 4576|      53|          580|https://i.ytimg.c...|            false|           false|Castlemaine rod s...|\n+-----------+--------------------+-------------------+--------------------+--------------------+----------+-------------+--------------------+----------+-----+--------+-------------+--------------------+-----------------+----------------+--------------------+\n\n"
     ]
    }
   ],
   "source": [
    "data.filter(data.video_id == 'mXxSeVG9uQk').show()"
   ]
  },
  {
   "cell_type": "code",
   "execution_count": 79,
   "metadata": {},
   "outputs": [],
   "source": [
    "#drop all duplicate data by video_id\n",
    "df1=data.dropDuplicates(['video_id'])"
   ]
  },
  {
   "cell_type": "code",
   "execution_count": 81,
   "metadata": {},
   "outputs": [
    {
     "output_type": "stream",
     "name": "stdout",
     "text": [
      "+-----------+--------------------+-------------------+--------------------+--------------------+----------+-------------+--------------------+----------+-----+--------+-------------+--------------------+-----------------+----------------+--------------------+\n|   video_id|               title|        publishedAt|           channelId|        channelTitle|categoryId|trending_date|                tags|view_count|likes|dislikes|comment_count|      thumbnail_link|comments_disabled|ratings_disabled|         description|\n+-----------+--------------------+-------------------+--------------------+--------------------+----------+-------------+--------------------+----------+-----+--------+-------------+--------------------+-----------------+----------------+--------------------+\n|mXxSeVG9uQk|Real Deal gets a ...|2021-06-09 07:34:52|UCST3-8pPhHzJeRsX...|Castlemaine Rod Shop|         2|     21.16.06|REAL DEAL|HOLDEN|...|     62459| 4584|      53|          580|https://i.ytimg.c...|            false|           false|Castlemaine rod s...|\n+-----------+--------------------+-------------------+--------------------+--------------------+----------+-------------+--------------------+----------+-----+--------+-------------+--------------------+-----------------+----------------+--------------------+\n\n"
     ]
    }
   ],
   "source": [
    "#check sample duplicate data. is it taking the newest data? yes (compare to above code)\n",
    "df1.filter(data.video_id == 'mXxSeVG9uQk').show()"
   ]
  },
  {
   "cell_type": "code",
   "execution_count": 83,
   "metadata": {},
   "outputs": [],
   "source": [
    "#save the final csv into local \n",
    "df1.write.format('csv').option('header','true').save('E:/Github/youtube/compile')"
   ]
  },
  {
   "cell_type": "code",
   "execution_count": null,
   "metadata": {},
   "outputs": [],
   "source": []
  }
 ],
 "metadata": {
  "kernelspec": {
   "name": "python3",
   "display_name": "Python 3.8.3 64-bit ('base': conda)"
  },
  "language_info": {
   "codemirror_mode": {
    "name": "ipython",
    "version": 3
   },
   "file_extension": ".py",
   "mimetype": "text/x-python",
   "name": "python",
   "nbconvert_exporter": "python",
   "pygments_lexer": "ipython3",
   "version": "3.8.3"
  },
  "interpreter": {
   "hash": "58b9ca51ffd3d43381c8ec767b2a89979e85f4a3c53e2bd8cc77626dffade7b8"
  }
 },
 "nbformat": 4,
 "nbformat_minor": 4
}