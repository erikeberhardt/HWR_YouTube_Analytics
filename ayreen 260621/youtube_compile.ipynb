{
 "metadata": {
  "language_info": {
   "codemirror_mode": {
    "name": "ipython",
    "version": 3
   },
   "file_extension": ".py",
   "mimetype": "text/x-python",
   "name": "python",
   "nbconvert_exporter": "python",
   "pygments_lexer": "ipython3",
   "version": "3.8.3"
  },
  "orig_nbformat": 4,
  "kernelspec": {
   "name": "python3",
   "display_name": "Python 3.8.3 64-bit ('base': conda)"
  },
  "interpreter": {
   "hash": "58b9ca51ffd3d43381c8ec767b2a89979e85f4a3c53e2bd8cc77626dffade7b8"
  }
 },
 "nbformat": 4,
 "nbformat_minor": 2,
 "cells": [
  {
   "cell_type": "code",
   "execution_count": 5,
   "metadata": {},
   "outputs": [],
   "source": [
    "import pandas as pd\n",
    "import numpy as np\n",
    "import os\n",
    "import requests\n",
    "from matplotlib import pyplot as plt\n",
    "from matplotlib import ticker\n",
    "import matplotlib.colors as mc\n",
    "import seaborn as sns\n",
    "from IPython.display import HTML\n",
    "import re\n",
    "from collections import Counter\n",
    "import wordcloud\n",
    "from pprint import pprint\n",
    "import random\n",
    "from nltk.tokenize import RegexpTokenizer\n",
    "from nltk.corpus import stopwords\n",
    "from nltk.util import ngrams\n",
    "from nltk import download as nltk_download\n",
    "from PIL import Image\n",
    "import emoji\n",
    "import tempfile\n",
    "import io\n",
    "from PIL import Image\n",
    "import time\n",
    "from scipy.spatial import distance\n",
    "from skimage import color as skcolor\n",
    "#from imageai.Detection import ObjectDetection\n",
    "\n",
    "import glob\n"
   ]
  },
  {
   "cell_type": "code",
   "execution_count": 6,
   "metadata": {},
   "outputs": [],
   "source": [
    "# the path to your csv file directory\n",
    "mycsvdir = 'E:\\Github\\youtube\\compile'"
   ]
  },
  {
   "cell_type": "code",
   "execution_count": 7,
   "metadata": {},
   "outputs": [],
   "source": [
    "# get all the csv files in that directory (assuming they have the extension .csv)\n",
    "csvfiles = glob.glob(os.path.join(mycsvdir, '*.csv'))"
   ]
  },
  {
   "cell_type": "code",
   "execution_count": 8,
   "metadata": {},
   "outputs": [],
   "source": [
    "# loop through the files and read them in with pandas\n",
    "dataframes = []  # a list to hold all the individual pandas DataFrames\n",
    "for csvfile in csvfiles:\n",
    "    df = pd.read_csv(csvfile)\n",
    "    dataframes.append(df)"
   ]
  },
  {
   "cell_type": "code",
   "execution_count": 9,
   "metadata": {},
   "outputs": [],
   "source": [
    "# concatenate them all together\n",
    "result = pd.concat(dataframes, ignore_index=True)"
   ]
  },
  {
   "cell_type": "code",
   "execution_count": 11,
   "metadata": {},
   "outputs": [],
   "source": [
    "# print out to a new csv file, index false to eliminate index numering in the new file\n",
    "result.to_csv('all.csv', index=False)"
   ]
  },
  {
   "cell_type": "code",
   "execution_count": 13,
   "metadata": {},
   "outputs": [
    {
     "output_type": "execute_result",
     "data": {
      "text/plain": [
       "        video_id                                              title  \\\n",
       "0    JS3x7kCNVXo                          minecraft Wipeout #shorts   \n",
       "1    TCxoZlFqzwA  How Does Film ACTUALLY Work? (It's MAGIC)  [Ph...   \n",
       "2    7qNMcg-l9WU                                        SIDE STREET   \n",
       "3    FYH9n37B7Yw          Forza Horizon 5 Official Announce Trailer   \n",
       "4    mT8iuXrXXUg  Denmark vs. Finland suspended after Christian ...   \n",
       "..           ...                                                ...   \n",
       "195  _GTEqtJeUOo   LIVE REACTION TO YOUTUBERS vs TIKTOKERS WEIGH-IN   \n",
       "196  ZM1bx-POUIM             Buying Every Advert I See For 24 Hours   \n",
       "197  QGLz_1W3Br0  (Lyrics) TWICE(트와이스) - Alcohol-Free (Music...   \n",
       "198  k9n0mqKfrUg             Monster vs Dad. Dednahype show #shorts   \n",
       "199  lkM8nxcJanM            The Next Money Pit Project Car Revealed   \n",
       "\n",
       "                       publishedAt                 channelId  \\\n",
       "0    2021-06-03T20:18:04.000+02:00  UCJN3badcuSNJBf1qMbAUL1w   \n",
       "1    2021-06-13T23:14:30.000+02:00  UC6107grRI4m0o2-emgoDnAA   \n",
       "2    2021-06-14T18:27:11.000+02:00  UCsQBsZJltmLzlsJNG7HevBg   \n",
       "3    2021-06-13T20:09:01.000+02:00  UCjBp_7RuDBUYbd1LegWEJ8g   \n",
       "4    2021-06-12T19:40:19.000+02:00  UC6c1z7bA__85CIWZ_jpCK-Q   \n",
       "..                             ...                       ...   \n",
       "195  2021-06-12T13:00:13.000+02:00  UCzfVmyl18x2TTaWp0d5rBNQ   \n",
       "196  2021-06-12T16:57:13.000+02:00  UCaFUrR3oSxOl5Y9y6tvLTEg   \n",
       "197  2021-06-11T11:14:31.000+02:00  UC5BMQOsAB8hKUyHu9KI6yig   \n",
       "198  2021-06-08T09:00:53.000+02:00  UCNRl8nOCoUvki2FNFxQZgEg   \n",
       "199  2021-06-09T18:00:32.000+02:00  UCL6JmiMXKoXS6bpP1D3bk8g   \n",
       "\n",
       "           channelTitle  categoryId trending_date  \\\n",
       "0                Ulanos          20      21.16.06   \n",
       "1       SmarterEveryDay          28      21.16.06   \n",
       "2    Tyler, The Creator           2      21.16.06   \n",
       "3                  Xbox          20      21.16.06   \n",
       "4               ESPN FC          17      21.16.06   \n",
       "..                  ...         ...           ...   \n",
       "195     MiniminterClips          20      21.16.06   \n",
       "196              WillNE          23      21.16.06   \n",
       "197        KBS WORLD TV          24      21.16.06   \n",
       "198           dednahype          23      21.16.06   \n",
       "199         Donut Media           2      21.16.06   \n",
       "\n",
       "                                                  tags  view_count    likes  \\\n",
       "0    minecraft|memes|meme|minecraft memes|minecraft...     8471332   580761   \n",
       "1    Smarter|Every|Day|Science|Physics|Destin|Sandl...     1140955    64453   \n",
       "2    tyler the creator|igor|flower boy|earfquake|go...     1407091   136377   \n",
       "3    Xbox|Xbox One|Xbox Series X|Xbox Series S|Forz...     2710919   146653   \n",
       "4    denmark finland|denmark vs finland euro 2020|c...     3264039    15369   \n",
       "..                                                 ...         ...      ...   \n",
       "195  miniminter|mm7games|miniminterclips|simon|side...     1509117    50066   \n",
       "196                                             [none]      820794    92561   \n",
       "197  kbs|kbsworld|kbs world|韓流|放送|韩国综艺|韩国电视剧|truyền...     2096320   147760   \n",
       "198                                             [none]    40490618  1226927   \n",
       "199  Mazda|Miata|Mazda Miata|BMW|BMW E36|E36|RALLY ...     1506914    96241   \n",
       "\n",
       "     dislikes  comment_count                                  thumbnail_link  \\\n",
       "0       13052           1744  https://i.ytimg.com/vi/JS3x7kCNVXo/default.jpg   \n",
       "1         816           6126  https://i.ytimg.com/vi/TCxoZlFqzwA/default.jpg   \n",
       "2        1349          12384  https://i.ytimg.com/vi/7qNMcg-l9WU/default.jpg   \n",
       "3        2047           8290  https://i.ytimg.com/vi/FYH9n37B7Yw/default.jpg   \n",
       "4        2493           1771  https://i.ytimg.com/vi/mT8iuXrXXUg/default.jpg   \n",
       "..        ...            ...                                             ...   \n",
       "195       637           3133  https://i.ytimg.com/vi/_GTEqtJeUOo/default.jpg   \n",
       "196       627           2155  https://i.ytimg.com/vi/ZM1bx-POUIM/default.jpg   \n",
       "197      3131           9043  https://i.ytimg.com/vi/QGLz_1W3Br0/default.jpg   \n",
       "198     73909           6374  https://i.ytimg.com/vi/k9n0mqKfrUg/default.jpg   \n",
       "199      1524           7601  https://i.ytimg.com/vi/lkM8nxcJanM/default.jpg   \n",
       "\n",
       "     comments_disabled  ratings_disabled  \\\n",
       "0                False             False   \n",
       "1                False             False   \n",
       "2                False             False   \n",
       "3                False             False   \n",
       "4                False             False   \n",
       "..                 ...               ...   \n",
       "195              False             False   \n",
       "196              False             False   \n",
       "197              False             False   \n",
       "198              False             False   \n",
       "199              False             False   \n",
       "\n",
       "                                           description  \n",
       "0    so close too____________________My tiktok! ➤ h...  \n",
       "1    For 50% off your first month of any subscripti...  \n",
       "2    DIRECTOR: WOLF HALEYDP: LUIS PANCH PEREZPRODUC...  \n",
       "3    Your ultimate Horizon adventure awaits! Explor...  \n",
       "4    UPDATE: Eriksen awake and stabilized at hospit...  \n",
       "..                                                 ...  \n",
       "195  The Full Stream: https://www.youtube.com/watch...  \n",
       "196  i bought every advert i saw for 24 hours (AD) ...  \n",
       "197  (Lyrics) TWICE(트와이스) - Alcohol-Free (Music...  \n",
       "198                                                NaN  \n",
       "199  Thanks to Ebay Motors for sponsoring this vide...  \n",
       "\n",
       "[200 rows x 16 columns]"
      ],
      "text/html": "<div>\n<style scoped>\n    .dataframe tbody tr th:only-of-type {\n        vertical-align: middle;\n    }\n\n    .dataframe tbody tr th {\n        vertical-align: top;\n    }\n\n    .dataframe thead th {\n        text-align: right;\n    }\n</style>\n<table border=\"1\" class=\"dataframe\">\n  <thead>\n    <tr style=\"text-align: right;\">\n      <th></th>\n      <th>video_id</th>\n      <th>title</th>\n      <th>publishedAt</th>\n      <th>channelId</th>\n      <th>channelTitle</th>\n      <th>categoryId</th>\n      <th>trending_date</th>\n      <th>tags</th>\n      <th>view_count</th>\n      <th>likes</th>\n      <th>dislikes</th>\n      <th>comment_count</th>\n      <th>thumbnail_link</th>\n      <th>comments_disabled</th>\n      <th>ratings_disabled</th>\n      <th>description</th>\n    </tr>\n  </thead>\n  <tbody>\n    <tr>\n      <th>0</th>\n      <td>JS3x7kCNVXo</td>\n      <td>minecraft Wipeout #shorts</td>\n      <td>2021-06-03T20:18:04.000+02:00</td>\n      <td>UCJN3badcuSNJBf1qMbAUL1w</td>\n      <td>Ulanos</td>\n      <td>20</td>\n      <td>21.16.06</td>\n      <td>minecraft|memes|meme|minecraft memes|minecraft...</td>\n      <td>8471332</td>\n      <td>580761</td>\n      <td>13052</td>\n      <td>1744</td>\n      <td>https://i.ytimg.com/vi/JS3x7kCNVXo/default.jpg</td>\n      <td>False</td>\n      <td>False</td>\n      <td>so close too____________________My tiktok! ➤ h...</td>\n    </tr>\n    <tr>\n      <th>1</th>\n      <td>TCxoZlFqzwA</td>\n      <td>How Does Film ACTUALLY Work? (It's MAGIC)  [Ph...</td>\n      <td>2021-06-13T23:14:30.000+02:00</td>\n      <td>UC6107grRI4m0o2-emgoDnAA</td>\n      <td>SmarterEveryDay</td>\n      <td>28</td>\n      <td>21.16.06</td>\n      <td>Smarter|Every|Day|Science|Physics|Destin|Sandl...</td>\n      <td>1140955</td>\n      <td>64453</td>\n      <td>816</td>\n      <td>6126</td>\n      <td>https://i.ytimg.com/vi/TCxoZlFqzwA/default.jpg</td>\n      <td>False</td>\n      <td>False</td>\n      <td>For 50% off your first month of any subscripti...</td>\n    </tr>\n    <tr>\n      <th>2</th>\n      <td>7qNMcg-l9WU</td>\n      <td>SIDE STREET</td>\n      <td>2021-06-14T18:27:11.000+02:00</td>\n      <td>UCsQBsZJltmLzlsJNG7HevBg</td>\n      <td>Tyler, The Creator</td>\n      <td>2</td>\n      <td>21.16.06</td>\n      <td>tyler the creator|igor|flower boy|earfquake|go...</td>\n      <td>1407091</td>\n      <td>136377</td>\n      <td>1349</td>\n      <td>12384</td>\n      <td>https://i.ytimg.com/vi/7qNMcg-l9WU/default.jpg</td>\n      <td>False</td>\n      <td>False</td>\n      <td>DIRECTOR: WOLF HALEYDP: LUIS PANCH PEREZPRODUC...</td>\n    </tr>\n    <tr>\n      <th>3</th>\n      <td>FYH9n37B7Yw</td>\n      <td>Forza Horizon 5 Official Announce Trailer</td>\n      <td>2021-06-13T20:09:01.000+02:00</td>\n      <td>UCjBp_7RuDBUYbd1LegWEJ8g</td>\n      <td>Xbox</td>\n      <td>20</td>\n      <td>21.16.06</td>\n      <td>Xbox|Xbox One|Xbox Series X|Xbox Series S|Forz...</td>\n      <td>2710919</td>\n      <td>146653</td>\n      <td>2047</td>\n      <td>8290</td>\n      <td>https://i.ytimg.com/vi/FYH9n37B7Yw/default.jpg</td>\n      <td>False</td>\n      <td>False</td>\n      <td>Your ultimate Horizon adventure awaits! Explor...</td>\n    </tr>\n    <tr>\n      <th>4</th>\n      <td>mT8iuXrXXUg</td>\n      <td>Denmark vs. Finland suspended after Christian ...</td>\n      <td>2021-06-12T19:40:19.000+02:00</td>\n      <td>UC6c1z7bA__85CIWZ_jpCK-Q</td>\n      <td>ESPN FC</td>\n      <td>17</td>\n      <td>21.16.06</td>\n      <td>denmark finland|denmark vs finland euro 2020|c...</td>\n      <td>3264039</td>\n      <td>15369</td>\n      <td>2493</td>\n      <td>1771</td>\n      <td>https://i.ytimg.com/vi/mT8iuXrXXUg/default.jpg</td>\n      <td>False</td>\n      <td>False</td>\n      <td>UPDATE: Eriksen awake and stabilized at hospit...</td>\n    </tr>\n    <tr>\n      <th>...</th>\n      <td>...</td>\n      <td>...</td>\n      <td>...</td>\n      <td>...</td>\n      <td>...</td>\n      <td>...</td>\n      <td>...</td>\n      <td>...</td>\n      <td>...</td>\n      <td>...</td>\n      <td>...</td>\n      <td>...</td>\n      <td>...</td>\n      <td>...</td>\n      <td>...</td>\n      <td>...</td>\n    </tr>\n    <tr>\n      <th>195</th>\n      <td>_GTEqtJeUOo</td>\n      <td>LIVE REACTION TO YOUTUBERS vs TIKTOKERS WEIGH-IN</td>\n      <td>2021-06-12T13:00:13.000+02:00</td>\n      <td>UCzfVmyl18x2TTaWp0d5rBNQ</td>\n      <td>MiniminterClips</td>\n      <td>20</td>\n      <td>21.16.06</td>\n      <td>miniminter|mm7games|miniminterclips|simon|side...</td>\n      <td>1509117</td>\n      <td>50066</td>\n      <td>637</td>\n      <td>3133</td>\n      <td>https://i.ytimg.com/vi/_GTEqtJeUOo/default.jpg</td>\n      <td>False</td>\n      <td>False</td>\n      <td>The Full Stream: https://www.youtube.com/watch...</td>\n    </tr>\n    <tr>\n      <th>196</th>\n      <td>ZM1bx-POUIM</td>\n      <td>Buying Every Advert I See For 24 Hours</td>\n      <td>2021-06-12T16:57:13.000+02:00</td>\n      <td>UCaFUrR3oSxOl5Y9y6tvLTEg</td>\n      <td>WillNE</td>\n      <td>23</td>\n      <td>21.16.06</td>\n      <td>[none]</td>\n      <td>820794</td>\n      <td>92561</td>\n      <td>627</td>\n      <td>2155</td>\n      <td>https://i.ytimg.com/vi/ZM1bx-POUIM/default.jpg</td>\n      <td>False</td>\n      <td>False</td>\n      <td>i bought every advert i saw for 24 hours (AD) ...</td>\n    </tr>\n    <tr>\n      <th>197</th>\n      <td>QGLz_1W3Br0</td>\n      <td>(Lyrics) TWICE(트와이스) - Alcohol-Free (Music...</td>\n      <td>2021-06-11T11:14:31.000+02:00</td>\n      <td>UC5BMQOsAB8hKUyHu9KI6yig</td>\n      <td>KBS WORLD TV</td>\n      <td>24</td>\n      <td>21.16.06</td>\n      <td>kbs|kbsworld|kbs world|韓流|放送|韩国综艺|韩国电视剧|truyền...</td>\n      <td>2096320</td>\n      <td>147760</td>\n      <td>3131</td>\n      <td>9043</td>\n      <td>https://i.ytimg.com/vi/QGLz_1W3Br0/default.jpg</td>\n      <td>False</td>\n      <td>False</td>\n      <td>(Lyrics) TWICE(트와이스) - Alcohol-Free (Music...</td>\n    </tr>\n    <tr>\n      <th>198</th>\n      <td>k9n0mqKfrUg</td>\n      <td>Monster vs Dad. Dednahype show #shorts</td>\n      <td>2021-06-08T09:00:53.000+02:00</td>\n      <td>UCNRl8nOCoUvki2FNFxQZgEg</td>\n      <td>dednahype</td>\n      <td>23</td>\n      <td>21.16.06</td>\n      <td>[none]</td>\n      <td>40490618</td>\n      <td>1226927</td>\n      <td>73909</td>\n      <td>6374</td>\n      <td>https://i.ytimg.com/vi/k9n0mqKfrUg/default.jpg</td>\n      <td>False</td>\n      <td>False</td>\n      <td>NaN</td>\n    </tr>\n    <tr>\n      <th>199</th>\n      <td>lkM8nxcJanM</td>\n      <td>The Next Money Pit Project Car Revealed</td>\n      <td>2021-06-09T18:00:32.000+02:00</td>\n      <td>UCL6JmiMXKoXS6bpP1D3bk8g</td>\n      <td>Donut Media</td>\n      <td>2</td>\n      <td>21.16.06</td>\n      <td>Mazda|Miata|Mazda Miata|BMW|BMW E36|E36|RALLY ...</td>\n      <td>1506914</td>\n      <td>96241</td>\n      <td>1524</td>\n      <td>7601</td>\n      <td>https://i.ytimg.com/vi/lkM8nxcJanM/default.jpg</td>\n      <td>False</td>\n      <td>False</td>\n      <td>Thanks to Ebay Motors for sponsoring this vide...</td>\n    </tr>\n  </tbody>\n</table>\n<p>200 rows × 16 columns</p>\n</div>"
     },
     "metadata": {},
     "execution_count": 13
    }
   ],
   "source": [
    "#open the compiled csv\n",
    "df=pd.read_csv('E:/Github/youtube/all.csv')\n",
    "df"
   ]
  },
  {
   "cell_type": "code",
   "execution_count": null,
   "metadata": {},
   "outputs": [],
   "source": []
  }
 ]
}